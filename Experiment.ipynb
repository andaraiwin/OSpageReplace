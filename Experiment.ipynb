{
 "cells": [
  {
   "cell_type": "code",
   "execution_count": 1,
   "id": "initial_id",
   "metadata": {
    "collapsed": true,
    "ExecuteTime": {
     "end_time": "2024-02-17T12:21:10.790898900Z",
     "start_time": "2024-02-17T12:21:10.776595600Z"
    }
   },
   "outputs": [
    {
     "data": {
      "text/plain": "['9',\n '2',\n '7',\n '4',\n '2',\n '8',\n '8',\n '7',\n '7',\n '1',\n '6',\n '2',\n '8',\n '8',\n '6',\n '9',\n '3',\n '7',\n '2',\n '6',\n '5',\n '2',\n '3',\n '0',\n '3',\n '2',\n '9',\n '1',\n '2',\n '3']"
     },
     "execution_count": 1,
     "metadata": {},
     "output_type": "execute_result"
    }
   ],
   "source": [
    "from Driver import *\n",
    "\n",
    "data = gen_dataset(30)\n",
    "data"
   ]
  },
  {
   "cell_type": "code",
   "outputs": [],
   "source": [],
   "metadata": {
    "collapsed": false
   },
   "id": "5fddaeb8d930708c"
  }
 ],
 "metadata": {
  "kernelspec": {
   "display_name": "Python 3",
   "language": "python",
   "name": "python3"
  },
  "language_info": {
   "codemirror_mode": {
    "name": "ipython",
    "version": 2
   },
   "file_extension": ".py",
   "mimetype": "text/x-python",
   "name": "python",
   "nbconvert_exporter": "python",
   "pygments_lexer": "ipython2",
   "version": "2.7.6"
  }
 },
 "nbformat": 4,
 "nbformat_minor": 5
}
